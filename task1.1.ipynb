{
 "cells": [
  {
   "cell_type": "code",
   "execution_count": 1,
   "id": "fe6ba80e-85ed-47c1-909f-9324fb4bd834",
   "metadata": {},
   "outputs": [
    {
     "name": "stdout",
     "output_type": "stream",
     "text": [
      "{98, 35, 213, 54, 119, 15}\n"
     ]
    }
   ],
   "source": [
    "# напишем программу, которая выведет на экран множество уникальных геометок всех пользователей.\n",
    "\n",
    "ids = {\n",
    "\n",
    "    'user1': [213, 213, 213, 15, 213],\n",
    "\n",
    "    'user2': [54, 54, 119, 119, 119],\n",
    "\n",
    "    'user3': [213, 98, 98, 35]\n",
    "     \n",
    "\n",
    "}\n",
    "\n",
    "geo_set = set() #возвращает множество из списка\n",
    "\n",
    "for geo in ids.values():\n",
    "\n",
    "    geo_set = geo_set.union(set(geo))\n",
    "\n",
    "print(geo_set)"
   ]
  },
  {
   "cell_type": "code",
   "execution_count": null,
   "id": "e5cf7a06-7dd1-45fa-a0fd-2400685a1a6a",
   "metadata": {},
   "outputs": [],
   "source": []
  }
 ],
 "metadata": {
  "kernelspec": {
   "display_name": "Python 3 (ipykernel)",
   "language": "python",
   "name": "python3"
  },
  "language_info": {
   "codemirror_mode": {
    "name": "ipython",
    "version": 3
   },
   "file_extension": ".py",
   "mimetype": "text/x-python",
   "name": "python",
   "nbconvert_exporter": "python",
   "pygments_lexer": "ipython3",
   "version": "3.12.7"
  }
 },
 "nbformat": 4,
 "nbformat_minor": 5
}
